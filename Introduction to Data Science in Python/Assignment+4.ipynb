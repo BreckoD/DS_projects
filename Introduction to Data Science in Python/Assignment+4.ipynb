{
 "cells": [
  {
   "cell_type": "markdown",
   "metadata": {},
   "source": [
    "---\n",
    "\n",
    "_You are currently looking at **version 1.1** of this notebook. To download notebooks and datafiles, as well as get help on Jupyter notebooks in the Coursera platform, visit the [Jupyter Notebook FAQ](https://www.coursera.org/learn/python-data-analysis/resources/0dhYG) course resource._\n",
    "\n",
    "---"
   ]
  },
  {
   "cell_type": "code",
   "execution_count": 1,
   "metadata": {
    "collapsed": true
   },
   "outputs": [],
   "source": [
    "import pandas as pd\n",
    "import numpy as np\n",
    "import re\n",
    "from scipy.stats import ttest_ind"
   ]
  },
  {
   "cell_type": "markdown",
   "metadata": {},
   "source": [
    "# Assignment 4 - Hypothesis Testing\n",
    "This assignment requires more individual learning than previous assignments - you are encouraged to check out the [pandas documentation](http://pandas.pydata.org/pandas-docs/stable/) to find functions or methods you might not have used yet, or ask questions on [Stack Overflow](http://stackoverflow.com/) and tag them as pandas and python related. And of course, the discussion forums are open for interaction with your peers and the course staff.\n",
    "\n",
    "Definitions:\n",
    "* A _quarter_ is a specific three month period, Q1 is January through March, Q2 is April through June, Q3 is July through September, Q4 is October through December.\n",
    "* A _recession_ is defined as starting with two consecutive quarters of GDP decline, and ending with two consecutive quarters of GDP growth.\n",
    "* A _recession bottom_ is the quarter within a recession which had the lowest GDP.\n",
    "* A _university town_ is a city which has a high percentage of university students compared to the total population of the city.\n",
    "\n",
    "**Hypothesis**: University towns have their mean housing prices less effected by recessions. Run a t-test to compare the ratio of the mean price of houses in university towns the quarter before the recession starts compared to the recession bottom. (`price_ratio=quarter_before_recession/recession_bottom`)\n",
    "\n",
    "The following data files are available for this assignment:\n",
    "* From the [Zillow research data site](http://www.zillow.com/research/data/) there is housing data for the United States. In particular the datafile for [all homes at a city level](http://files.zillowstatic.com/research/public/City/City_Zhvi_AllHomes.csv), ```City_Zhvi_AllHomes.csv```, has median home sale prices at a fine grained level.\n",
    "* From the Wikipedia page on college towns is a list of [university towns in the United States](https://en.wikipedia.org/wiki/List_of_college_towns#College_towns_in_the_United_States) which has been copy and pasted into the file ```university_towns.txt```.\n",
    "* From Bureau of Economic Analysis, US Department of Commerce, the [GDP over time](http://www.bea.gov/national/index.htm#gdp) of the United States in current dollars (use the chained value in 2009 dollars), in quarterly intervals, in the file ```gdplev.xls```. For this assignment, only look at GDP data from the first quarter of 2000 onward.\n",
    "\n",
    "Each function in this assignment below is worth 10%, with the exception of ```run_ttest()```, which is worth 50%."
   ]
  },
  {
   "cell_type": "code",
   "execution_count": 2,
   "metadata": {
    "collapsed": true
   },
   "outputs": [],
   "source": [
    "# Use this dictionary to map state names to two letter acronyms\n",
    "states = {'OH': 'Ohio', 'KY': 'Kentucky', 'AS': 'American Samoa', 'NV': 'Nevada', 'WY': 'Wyoming', 'NA': 'National', 'AL': 'Alabama', 'MD': 'Maryland', 'AK': 'Alaska', 'UT': 'Utah', 'OR': 'Oregon', 'MT': 'Montana', 'IL': 'Illinois', 'TN': 'Tennessee', 'DC': 'District of Columbia', 'VT': 'Vermont', 'ID': 'Idaho', 'AR': 'Arkansas', 'ME': 'Maine', 'WA': 'Washington', 'HI': 'Hawaii', 'WI': 'Wisconsin', 'MI': 'Michigan', 'IN': 'Indiana', 'NJ': 'New Jersey', 'AZ': 'Arizona', 'GU': 'Guam', 'MS': 'Mississippi', 'PR': 'Puerto Rico', 'NC': 'North Carolina', 'TX': 'Texas', 'SD': 'South Dakota', 'MP': 'Northern Mariana Islands', 'IA': 'Iowa', 'MO': 'Missouri', 'CT': 'Connecticut', 'WV': 'West Virginia', 'SC': 'South Carolina', 'LA': 'Louisiana', 'KS': 'Kansas', 'NY': 'New York', 'NE': 'Nebraska', 'OK': 'Oklahoma', 'FL': 'Florida', 'CA': 'California', 'CO': 'Colorado', 'PA': 'Pennsylvania', 'DE': 'Delaware', 'NM': 'New Mexico', 'RI': 'Rhode Island', 'MN': 'Minnesota', 'VI': 'Virgin Islands', 'NH': 'New Hampshire', 'MA': 'Massachusetts', 'GA': 'Georgia', 'ND': 'North Dakota', 'VA': 'Virginia'}"
   ]
  },
  {
   "cell_type": "code",
   "execution_count": 3,
   "metadata": {
    "collapsed": true,
    "umich_part_id": "021",
    "umich_partlist_id": "004"
   },
   "outputs": [],
   "source": [
    "def get_list_of_university_towns():\n",
    "    towns = pd.read_csv('university_towns.txt', header=None, sep='\\n', names=['RegionName', 'State'])\n",
    "    #city = pd.read_fwf('university_towns.txt', header=None)\n",
    "    change = 'll'\n",
    "    def remake(raw):\n",
    "        brack_ind = raw['RegionName'].find('(')\n",
    "        global change\n",
    "        if raw['RegionName'].find('[edit]') != -1:\n",
    "            change = raw['RegionName'][: raw['RegionName'].find('[edit]')]\n",
    "        elif brack_ind != -1:\n",
    "            raw['State'] = change\n",
    "            raw['RegionName'] = raw['RegionName'][: brack_ind - 1]\n",
    "        else:\n",
    "            raw['State'] = change\n",
    "        return raw\n",
    "    towns = towns.apply(remake, axis=1).dropna()\n",
    "    return towns\n",
    "#get_list_of_university_towns()"
   ]
  },
  {
   "cell_type": "code",
   "execution_count": 4,
   "metadata": {
    "umich_part_id": "022",
    "umich_partlist_id": "004"
   },
   "outputs": [
    {
     "data": {
      "text/plain": [
       "'2008q3'"
      ]
     },
     "execution_count": 4,
     "metadata": {},
     "output_type": "execute_result"
    }
   ],
   "source": [
    "def get_recession_start():\n",
    "    '''Returns the year and quarter of the recession start time as a \n",
    "    string value in a format such as 2005q3'''\n",
    "    gdp = pd.read_excel('gdplev.xls',\n",
    "                        skiprows=219,\n",
    "                        usecols=[4,5,6],\n",
    "                        names=['Quarter', 'GDP', 'GDP chained 2009 dollars']\n",
    "                       )\n",
    "    for index, quart in gdp['GDP'].iteritems():\n",
    "        if index < 2:\n",
    "            continue\n",
    "        if quart < gdp['GDP'].loc[index-1] and gdp['GDP'].loc[index-1] < gdp['GDP'].loc[index-2]:\n",
    "            return gdp['Quarter'].loc[index-2]\n",
    "    return gdp\n",
    "get_recession_start()"
   ]
  },
  {
   "cell_type": "code",
   "execution_count": 5,
   "metadata": {
    "umich_part_id": "023",
    "umich_partlist_id": "004"
   },
   "outputs": [
    {
     "data": {
      "text/plain": [
       "'2009q4'"
      ]
     },
     "execution_count": 5,
     "metadata": {},
     "output_type": "execute_result"
    }
   ],
   "source": [
    "def get_recession_end():\n",
    "    '''Returns the year and quarter of the recession end time as a \n",
    "    string value in a format such as 2005q3'''\n",
    "    gdp = pd.read_excel('gdplev.xls',\n",
    "                        skiprows=219,\n",
    "                        usecols=[4,5,6],\n",
    "                        names=['Quarter', 'GDP', 'GDP chained 2009 dollars']\n",
    "                       )\n",
    "    start = gdp[gdp['Quarter'] == get_recession_start()].index[0]\n",
    "    for index, quart in gdp[start:].GDP.iteritems():\n",
    "        if quart > gdp['GDP'].loc[index-1] and gdp['GDP'].loc[index-1] > gdp['GDP'].loc[index-2]  and gdp['GDP'].loc[index-2] < gdp['GDP'].loc[index-3] and gdp['GDP'].loc[index-3] < gdp['GDP'].loc[index-4]:\n",
    "            return gdp['Quarter'].loc[index]\n",
    "    return gdp\n",
    "get_recession_end()"
   ]
  },
  {
   "cell_type": "code",
   "execution_count": 6,
   "metadata": {
    "umich_part_id": "024",
    "umich_partlist_id": "004"
   },
   "outputs": [
    {
     "data": {
      "text/plain": [
       "'2009q2'"
      ]
     },
     "execution_count": 6,
     "metadata": {},
     "output_type": "execute_result"
    }
   ],
   "source": [
    "def get_recession_bottom():\n",
    "    gdp = pd.read_excel('gdplev.xls',\n",
    "                        skiprows=219,\n",
    "                        usecols=[4,5,6],\n",
    "                        names=['Quarter', 'GDP', 'GDP chained 2009 dollars']\n",
    "                       )\n",
    "    start = gdp[gdp['Quarter'] == get_recession_start()].index[0]\n",
    "    end = gdp[gdp['Quarter'] == get_recession_end()].index[0]\n",
    "        \n",
    "    return gdp.iloc[gdp[start:end].GDP.idxmin()].Quarter\n",
    "get_recession_bottom()"
   ]
  },
  {
   "cell_type": "code",
   "execution_count": 7,
   "metadata": {
    "collapsed": true,
    "umich_part_id": "025",
    "umich_partlist_id": "004"
   },
   "outputs": [],
   "source": [
    "def convert_housing_data_to_quarters():\n",
    "    '''Converts the housing data to quarters and returns it as mean \n",
    "    values in a dataframe. This dataframe should be a dataframe with\n",
    "    columns for 2000q1 through 2016q3, and should have a multi-index\n",
    "    in the shape of [\"State\",\"RegionName\"].\n",
    "    \n",
    "    Note: Quarters are defined in the assignment description, they are\n",
    "    not arbitrary three month periods.\n",
    "    \n",
    "    The resulting dataframe should have 67 columns, and 10,730 rows.\n",
    "    '''\n",
    "    cities = pd.read_csv('City_Zhvi_AllHomes.csv')\n",
    "    cities.drop(cities.columns[6:51], axis=1, inplace=True)\n",
    "    cities.set_index([\"State\",\"RegionName\"], inplace=True)\n",
    "    def quarting(column_name):\n",
    "        if column_name[-2:] in ('01','02','03'):\n",
    "            new_column = column_name[:4] + 'q1'\n",
    "        elif column_name[-2:] in ('04','05','06'):\n",
    "            new_column = column_name[:4] + 'q2'\n",
    "        elif column_name[-2:] in ('07','08','09'):\n",
    "            new_column = column_name[:4] + 'q3'\n",
    "        else:\n",
    "            new_column = column_name[:4] + 'q4'\n",
    "        return new_column\n",
    "            \n",
    "    cities = cities[cities.columns[5:]].groupby(quarting, axis=1).mean()\n",
    "    return cities.rename(states).sort_index()\n",
    "#convert_housing_data_to_quarters()"
   ]
  },
  {
   "cell_type": "code",
   "execution_count": 8,
   "metadata": {
    "umich_part_id": "026",
    "umich_partlist_id": "004"
   },
   "outputs": [
    {
     "data": {
      "text/plain": [
       "(True, 0.0052294069644427911, 'university town')"
      ]
     },
     "execution_count": 8,
     "metadata": {},
     "output_type": "execute_result"
    }
   ],
   "source": [
    "def run_ttest():\n",
    "    '''First creates new data showing the decline or growth of housing prices\n",
    "    between the recession start and the recession bottom. Then runs a ttest\n",
    "    comparing the university town values to the non-university towns values, \n",
    "    return whether the alternative hypothesis (that the two groups are the same)\n",
    "    is true or not as well as the p-value of the confidence. \n",
    "    \n",
    "    Return the tuple (different, p, better) where different=True if the t-test is\n",
    "    True at a p<0.01 (we reject the null hypothesis), or different=False if \n",
    "    otherwise (we cannot reject the null hypothesis). The variable p should\n",
    "    be equal to the exact p value returned from scipy.stats.ttest_ind(). The\n",
    "    value for better should be either \"university town\" or \"non-university town\"\n",
    "    depending on which has a lower mean price ratio (which is equivilent to a\n",
    "    reduced market loss).'''\n",
    "    gdp = pd.read_excel('gdplev.xls',\n",
    "                        skiprows=219,\n",
    "                        usecols=[4,5,6],\n",
    "                        names=['Quarter', 'GDP', 'GDP chained 2009 dollars']\n",
    "                       )\n",
    "    univ_towns = get_list_of_university_towns()\n",
    "    cities = convert_housing_data_to_quarters()\n",
    "    rec_bottom = get_recession_bottom()\n",
    "    rec_start = get_recession_start()\n",
    "    ind_start = list(cities.columns).index(rec_start)\n",
    "    ind_end = list(cities.columns).index(rec_bottom)\n",
    "    cities = cities[[ind_start, ind_end]]\n",
    "    univ_towns.set_index(['State', 'RegionName'], inplace = True)\n",
    "    univ_towns = cities.merge(univ_towns,  how='inner', left_index=True, right_index=True)\n",
    "    univ_towns['univ_t'] = True\n",
    "    cities = cities.merge(univ_towns,\n",
    "                          how='outer',\n",
    "                          left_index=True, right_index=True,\n",
    "                          on=[rec_start, rec_bottom])\n",
    "    cities['univ_t'].fillna(False, inplace = True)\n",
    "    cities['price_ratio'] = cities[rec_start] / cities[rec_bottom]\n",
    "    univ_towns = cities.where(cities['univ_t']==True).dropna()\n",
    "    non_univ_towns = cities.where(cities['univ_t']==False).dropna()\n",
    "    t, p = ttest_ind(univ_towns['price_ratio'],\n",
    "                     non_univ_towns['price_ratio'])\n",
    "    different = True if p < 0.01 else False\n",
    "    better =  'university town' if (univ_towns['price_ratio']).mean() < (non_univ_towns['price_ratio']).mean() else 'non-university town'\n",
    "    \n",
    "    return (different, p, better)\n",
    "run_ttest()"
   ]
  },
  {
   "cell_type": "code",
   "execution_count": null,
   "metadata": {
    "collapsed": true
   },
   "outputs": [],
   "source": []
  }
 ],
 "metadata": {
  "coursera": {
   "course_slug": "python-data-analysis",
   "graded_item_id": "Il9Fx",
   "launcher_item_id": "TeDW0",
   "part_id": "WGlun"
  },
  "kernelspec": {
   "display_name": "Python 3",
   "language": "python",
   "name": "python3"
  },
  "language_info": {
   "codemirror_mode": {
    "name": "ipython",
    "version": 3
   },
   "file_extension": ".py",
   "mimetype": "text/x-python",
   "name": "python",
   "nbconvert_exporter": "python",
   "pygments_lexer": "ipython3",
   "version": "3.6.2"
  },
  "umich": {
   "id": "Assignment 4",
   "version": "1.1"
  }
 },
 "nbformat": 4,
 "nbformat_minor": 1
}
